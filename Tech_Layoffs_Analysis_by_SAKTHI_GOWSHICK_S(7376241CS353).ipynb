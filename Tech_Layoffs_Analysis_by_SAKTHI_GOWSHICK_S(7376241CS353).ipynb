{
  "cells": [
    {
      "cell_type": "markdown",
      "metadata": {
        "id": "e8srRCwQPBC7"
      },
      "source": [
        "**Tech Layoffs Analysis**"
      ]
    },
    {
      "cell_type": "markdown",
      "metadata": {
        "id": "9a-BwbCdQMgV"
      },
      "source": [
        "Part 1:Basic Data Understanding (Pandas)\n"
      ]
    },
    {
      "cell_type": "markdown",
      "metadata": {
        "id": "C6Rp8IXPQYK0"
      },
      "source": [
        "Load the CSV file into a Pandas DataFrame.\n"
      ]
    },
    {
      "cell_type": "code",
      "execution_count": 6,
      "metadata": {
        "colab": {
          "base_uri": "https://localhost:8080/",
          "height": 423
        },
        "id": "85RXUhHuOKDI",
        "outputId": "31acca2a-1393-433c-99e7-b524724a38bb"
      },
      "outputs": [
        {
          "data": {
            "text/html": [
              "<div>\n",
              "<style scoped>\n",
              "    .dataframe tbody tr th:only-of-type {\n",
              "        vertical-align: middle;\n",
              "    }\n",
              "\n",
              "    .dataframe tbody tr th {\n",
              "        vertical-align: top;\n",
              "    }\n",
              "\n",
              "    .dataframe thead th {\n",
              "        text-align: right;\n",
              "    }\n",
              "</style>\n",
              "<table border=\"1\" class=\"dataframe\">\n",
              "  <thead>\n",
              "    <tr style=\"text-align: right;\">\n",
              "      <th></th>\n",
              "      <th>company</th>\n",
              "      <th>company_size</th>\n",
              "      <th>employees_fired</th>\n",
              "    </tr>\n",
              "  </thead>\n",
              "  <tbody>\n",
              "    <tr>\n",
              "      <th>0</th>\n",
              "      <td>Apple</td>\n",
              "      <td>147000</td>\n",
              "      <td>0</td>\n",
              "    </tr>\n",
              "    <tr>\n",
              "      <th>1</th>\n",
              "      <td>Microsoft</td>\n",
              "      <td>181000</td>\n",
              "      <td>6000</td>\n",
              "    </tr>\n",
              "    <tr>\n",
              "      <th>2</th>\n",
              "      <td>Google</td>\n",
              "      <td>139500</td>\n",
              "      <td>15000</td>\n",
              "    </tr>\n",
              "    <tr>\n",
              "      <th>3</th>\n",
              "      <td>Amazon</td>\n",
              "      <td>1300000</td>\n",
              "      <td>12000</td>\n",
              "    </tr>\n",
              "    <tr>\n",
              "      <th>4</th>\n",
              "      <td>Facebook</td>\n",
              "      <td>60750</td>\n",
              "      <td>11000</td>\n",
              "    </tr>\n",
              "    <tr>\n",
              "      <th>...</th>\n",
              "      <td>...</td>\n",
              "      <td>...</td>\n",
              "      <td>...</td>\n",
              "    </tr>\n",
              "    <tr>\n",
              "      <th>95</th>\n",
              "      <td>Airbnb</td>\n",
              "      <td>448047</td>\n",
              "      <td>1012</td>\n",
              "    </tr>\n",
              "    <tr>\n",
              "      <th>96</th>\n",
              "      <td>Uber</td>\n",
              "      <td>1206139</td>\n",
              "      <td>51658</td>\n",
              "    </tr>\n",
              "    <tr>\n",
              "      <th>97</th>\n",
              "      <td>GoJek</td>\n",
              "      <td>302489</td>\n",
              "      <td>7084</td>\n",
              "    </tr>\n",
              "    <tr>\n",
              "      <th>98</th>\n",
              "      <td>Freshworks</td>\n",
              "      <td>646552</td>\n",
              "      <td>7670</td>\n",
              "    </tr>\n",
              "    <tr>\n",
              "      <th>99</th>\n",
              "      <td>Slack</td>\n",
              "      <td>869416</td>\n",
              "      <td>1201</td>\n",
              "    </tr>\n",
              "  </tbody>\n",
              "</table>\n",
              "<p>100 rows × 3 columns</p>\n",
              "</div>"
            ],
            "text/plain": [
              "       company  company_size  employees_fired\n",
              "0        Apple        147000                0\n",
              "1    Microsoft        181000             6000\n",
              "2       Google        139500            15000\n",
              "3       Amazon       1300000            12000\n",
              "4     Facebook         60750            11000\n",
              "..         ...           ...              ...\n",
              "95      Airbnb        448047             1012\n",
              "96        Uber       1206139            51658\n",
              "97       GoJek        302489             7084\n",
              "98  Freshworks        646552             7670\n",
              "99       Slack        869416             1201\n",
              "\n",
              "[100 rows x 3 columns]"
            ]
          },
          "execution_count": 6,
          "metadata": {},
          "output_type": "execute_result"
        }
      ],
      "source": [
        "import pandas as pd\n",
        "data = pd.read_csv(r\"C:\\Users\\Sakthi\\Downloads\\tech_layoffs.csv\")\n",
        "data"
      ]
    },
    {
      "cell_type": "markdown",
      "metadata": {
        "id": "v_9EmWHxQa91"
      },
      "source": [
        "Display the first 10 rows.\n"
      ]
    },
    {
      "cell_type": "code",
      "execution_count": 7,
      "metadata": {
        "colab": {
          "base_uri": "https://localhost:8080/",
          "height": 363
        },
        "id": "YG3qmC9KOqL5",
        "outputId": "40960e4e-8d3e-44aa-813a-0528c6a8df10"
      },
      "outputs": [
        {
          "data": {
            "text/html": [
              "<div>\n",
              "<style scoped>\n",
              "    .dataframe tbody tr th:only-of-type {\n",
              "        vertical-align: middle;\n",
              "    }\n",
              "\n",
              "    .dataframe tbody tr th {\n",
              "        vertical-align: top;\n",
              "    }\n",
              "\n",
              "    .dataframe thead th {\n",
              "        text-align: right;\n",
              "    }\n",
              "</style>\n",
              "<table border=\"1\" class=\"dataframe\">\n",
              "  <thead>\n",
              "    <tr style=\"text-align: right;\">\n",
              "      <th></th>\n",
              "      <th>company</th>\n",
              "      <th>company_size</th>\n",
              "      <th>employees_fired</th>\n",
              "    </tr>\n",
              "  </thead>\n",
              "  <tbody>\n",
              "    <tr>\n",
              "      <th>0</th>\n",
              "      <td>Apple</td>\n",
              "      <td>147000</td>\n",
              "      <td>0</td>\n",
              "    </tr>\n",
              "    <tr>\n",
              "      <th>1</th>\n",
              "      <td>Microsoft</td>\n",
              "      <td>181000</td>\n",
              "      <td>6000</td>\n",
              "    </tr>\n",
              "    <tr>\n",
              "      <th>2</th>\n",
              "      <td>Google</td>\n",
              "      <td>139500</td>\n",
              "      <td>15000</td>\n",
              "    </tr>\n",
              "    <tr>\n",
              "      <th>3</th>\n",
              "      <td>Amazon</td>\n",
              "      <td>1300000</td>\n",
              "      <td>12000</td>\n",
              "    </tr>\n",
              "    <tr>\n",
              "      <th>4</th>\n",
              "      <td>Facebook</td>\n",
              "      <td>60750</td>\n",
              "      <td>11000</td>\n",
              "    </tr>\n",
              "    <tr>\n",
              "      <th>5</th>\n",
              "      <td>Tesla</td>\n",
              "      <td>70000</td>\n",
              "      <td>1000</td>\n",
              "    </tr>\n",
              "    <tr>\n",
              "      <th>6</th>\n",
              "      <td>Palantir</td>\n",
              "      <td>1008569</td>\n",
              "      <td>72661</td>\n",
              "    </tr>\n",
              "    <tr>\n",
              "      <th>7</th>\n",
              "      <td>PhonePe</td>\n",
              "      <td>850789</td>\n",
              "      <td>89997</td>\n",
              "    </tr>\n",
              "    <tr>\n",
              "      <th>8</th>\n",
              "      <td>Ola</td>\n",
              "      <td>135654</td>\n",
              "      <td>3909</td>\n",
              "    </tr>\n",
              "    <tr>\n",
              "      <th>9</th>\n",
              "      <td>Oracle</td>\n",
              "      <td>1116585</td>\n",
              "      <td>50166</td>\n",
              "    </tr>\n",
              "  </tbody>\n",
              "</table>\n",
              "</div>"
            ],
            "text/plain": [
              "     company  company_size  employees_fired\n",
              "0      Apple        147000                0\n",
              "1  Microsoft        181000             6000\n",
              "2     Google        139500            15000\n",
              "3     Amazon       1300000            12000\n",
              "4   Facebook         60750            11000\n",
              "5      Tesla         70000             1000\n",
              "6   Palantir       1008569            72661\n",
              "7    PhonePe        850789            89997\n",
              "8        Ola        135654             3909\n",
              "9     Oracle       1116585            50166"
            ]
          },
          "execution_count": 7,
          "metadata": {},
          "output_type": "execute_result"
        }
      ],
      "source": [
        "data.head(10)"
      ]
    },
    {
      "cell_type": "markdown",
      "metadata": {
        "id": "UBC_1ghUQffE"
      },
      "source": [
        "Show shape, column names, and data types.\n"
      ]
    },
    {
      "cell_type": "code",
      "execution_count": 8,
      "metadata": {
        "colab": {
          "base_uri": "https://localhost:8080/"
        },
        "id": "m_nkEA67OxN1",
        "outputId": "c678a25f-364c-4d57-d654-72eb2a7e595e"
      },
      "outputs": [
        {
          "name": "stdout",
          "output_type": "stream",
          "text": [
            "Size of the dataset:\n",
            "(100, 3)\n",
            "\n",
            "Column names:\n",
            " ['company', 'company_size', 'employees_fired']\n",
            "\n",
            "Data Types:\n",
            "company            object\n",
            "company_size        int64\n",
            "employees_fired     int64\n",
            "dtype: object\n"
          ]
        }
      ],
      "source": [
        "print(\"Size of the dataset:\")\n",
        "print(data.shape)\n",
        "print(\"\\nColumn names:\\n\",data.columns.tolist())\n",
        "print(\"\\nData Types:\")\n",
        "print(data.dtypes)"
      ]
    },
    {
      "cell_type": "markdown",
      "metadata": {
        "id": "Fk7XVB9_Qj9K"
      },
      "source": [
        "Check for missing values and duplicates.\n"
      ]
    },
    {
      "cell_type": "code",
      "execution_count": 9,
      "metadata": {
        "colab": {
          "base_uri": "https://localhost:8080/",
          "height": 178
        },
        "id": "HPqcxI4QPvyg",
        "outputId": "d9d98c9f-586a-4762-b563-4de38c2254b5"
      },
      "outputs": [
        {
          "data": {
            "text/plain": [
              "company            0\n",
              "company_size       0\n",
              "employees_fired    0\n",
              "dtype: int64"
            ]
          },
          "execution_count": 9,
          "metadata": {},
          "output_type": "execute_result"
        }
      ],
      "source": [
        "data.isna().sum()"
      ]
    },
    {
      "cell_type": "code",
      "execution_count": 10,
      "metadata": {
        "colab": {
          "base_uri": "https://localhost:8080/"
        },
        "id": "rycO0e_cQu_D",
        "outputId": "a621acb3-e161-4938-84d2-fd55d6bd4b33"
      },
      "outputs": [
        {
          "name": "stdout",
          "output_type": "stream",
          "text": [
            "0\n"
          ]
        }
      ],
      "source": [
        "print(data.duplicated().sum())"
      ]
    },
    {
      "cell_type": "markdown",
      "metadata": {
        "id": "A9JzR840QocZ"
      },
      "source": [
        "Use .describe() to get summary statistics.\n"
      ]
    },
    {
      "cell_type": "code",
      "execution_count": 11,
      "metadata": {
        "colab": {
          "base_uri": "https://localhost:8080/",
          "height": 300
        },
        "id": "xGmTojnlP8FS",
        "outputId": "e325ee6d-ae2a-42eb-9f02-64e9f8201523"
      },
      "outputs": [
        {
          "data": {
            "text/html": [
              "<div>\n",
              "<style scoped>\n",
              "    .dataframe tbody tr th:only-of-type {\n",
              "        vertical-align: middle;\n",
              "    }\n",
              "\n",
              "    .dataframe tbody tr th {\n",
              "        vertical-align: top;\n",
              "    }\n",
              "\n",
              "    .dataframe thead th {\n",
              "        text-align: right;\n",
              "    }\n",
              "</style>\n",
              "<table border=\"1\" class=\"dataframe\">\n",
              "  <thead>\n",
              "    <tr style=\"text-align: right;\">\n",
              "      <th></th>\n",
              "      <th>company_size</th>\n",
              "      <th>employees_fired</th>\n",
              "    </tr>\n",
              "  </thead>\n",
              "  <tbody>\n",
              "    <tr>\n",
              "      <th>count</th>\n",
              "      <td>1.000000e+02</td>\n",
              "      <td>100.000000</td>\n",
              "    </tr>\n",
              "    <tr>\n",
              "      <th>mean</th>\n",
              "      <td>7.557156e+05</td>\n",
              "      <td>57355.620000</td>\n",
              "    </tr>\n",
              "    <tr>\n",
              "      <th>std</th>\n",
              "      <td>4.615541e+05</td>\n",
              "      <td>52862.274156</td>\n",
              "    </tr>\n",
              "    <tr>\n",
              "      <th>min</th>\n",
              "      <td>7.137000e+03</td>\n",
              "      <td>0.000000</td>\n",
              "    </tr>\n",
              "    <tr>\n",
              "      <th>25%</th>\n",
              "      <td>3.370110e+05</td>\n",
              "      <td>12968.250000</td>\n",
              "    </tr>\n",
              "    <tr>\n",
              "      <th>50%</th>\n",
              "      <td>8.116580e+05</td>\n",
              "      <td>42510.500000</td>\n",
              "    </tr>\n",
              "    <tr>\n",
              "      <th>75%</th>\n",
              "      <td>1.180989e+06</td>\n",
              "      <td>94080.750000</td>\n",
              "    </tr>\n",
              "    <tr>\n",
              "      <th>max</th>\n",
              "      <td>1.468680e+06</td>\n",
              "      <td>206083.000000</td>\n",
              "    </tr>\n",
              "  </tbody>\n",
              "</table>\n",
              "</div>"
            ],
            "text/plain": [
              "       company_size  employees_fired\n",
              "count  1.000000e+02       100.000000\n",
              "mean   7.557156e+05     57355.620000\n",
              "std    4.615541e+05     52862.274156\n",
              "min    7.137000e+03         0.000000\n",
              "25%    3.370110e+05     12968.250000\n",
              "50%    8.116580e+05     42510.500000\n",
              "75%    1.180989e+06     94080.750000\n",
              "max    1.468680e+06    206083.000000"
            ]
          },
          "execution_count": 11,
          "metadata": {},
          "output_type": "execute_result"
        }
      ],
      "source": [
        "data.describe()"
      ]
    },
    {
      "cell_type": "markdown",
      "metadata": {
        "id": "9pMOEYFmRDNM"
      },
      "source": [
        "Part 2: Data Cleaning\n"
      ]
    },
    {
      "cell_type": "markdown",
      "metadata": {
        "id": "cMHL72ruRI9U"
      },
      "source": [
        "Ensure company_size and employees_fired are stored as integers."
      ]
    },
    {
      "cell_type": "code",
      "execution_count": 12,
      "metadata": {
        "colab": {
          "base_uri": "https://localhost:8080/",
          "height": 178
        },
        "id": "FtlBsLdRRIeF",
        "outputId": "0970ccda-3169-40a9-f886-37a71194587d"
      },
      "outputs": [
        {
          "data": {
            "text/plain": [
              "company            object\n",
              "company_size        int64\n",
              "employees_fired     int64\n",
              "dtype: object"
            ]
          },
          "execution_count": 12,
          "metadata": {},
          "output_type": "execute_result"
        }
      ],
      "source": [
        "data.dtypes"
      ]
    },
    {
      "cell_type": "markdown",
      "metadata": {
        "id": "HcA4Q4XuRfGc"
      },
      "source": [
        "Remove any extra spaces in company names.\n"
      ]
    },
    {
      "cell_type": "code",
      "execution_count": 13,
      "metadata": {
        "colab": {
          "base_uri": "https://localhost:8080/"
        },
        "id": "8rqZZBGRRjm4",
        "outputId": "8d9116ee-5d14-435a-d4cb-b0710e51bdc9"
      },
      "outputs": [
        {
          "name": "stdout",
          "output_type": "stream",
          "text": [
            "0          Apple\n",
            "1      Microsoft\n",
            "2         Google\n",
            "3         Amazon\n",
            "4       Facebook\n",
            "         ...    \n",
            "95        Airbnb\n",
            "96          Uber\n",
            "97         GoJek\n",
            "98    Freshworks\n",
            "99         Slack\n",
            "Name: company, Length: 100, dtype: object\n"
          ]
        }
      ],
      "source": [
        "data['company']=data['company'].str.strip()\n",
        "print(data['company'])"
      ]
    },
    {
      "cell_type": "markdown",
      "metadata": {
        "id": "B-4Q7FQ7TJ1Z"
      },
      "source": [
        "Check for any negative values in employees_fired or company_size and correct them if needed.\n"
      ]
    },
    {
      "cell_type": "code",
      "execution_count": 14,
      "metadata": {
        "colab": {
          "base_uri": "https://localhost:8080/"
        },
        "id": "qekmN80QTDKu",
        "outputId": "f7cb1c05-12a3-47c2-a563-4ae30163fd74"
      },
      "outputs": [
        {
          "name": "stdout",
          "output_type": "stream",
          "text": [
            "Negative values in 'employees_fired':\n",
            "Empty DataFrame\n",
            "Columns: [company, company_size, employees_fired]\n",
            "Index: []\n",
            "\n",
            "Negative values in 'company_size':\n",
            "Empty DataFrame\n",
            "Columns: [company, company_size, employees_fired]\n",
            "Index: []\n"
          ]
        }
      ],
      "source": [
        "print(\"Negative values in 'employees_fired':\")\n",
        "print(data[data['employees_fired'] < 0])\n",
        "print(\"\\nNegative values in 'company_size':\")\n",
        "print(data[data['company_size'] < 0])\n",
        "# Replace negative values with NaN\n",
        "data['employees_fired']=data['employees_fired'].apply(lambda x:x if x >= 0 else pd.NA)\n",
        "data['company_size']=data['company_size'].apply(lambda x:x if x >= 0 else pd.NA)"
      ]
    },
    {
      "cell_type": "markdown",
      "metadata": {
        "id": "kdoMnEQFVEjo"
      },
      "source": [
        "Standardize company names to title case.\n"
      ]
    },
    {
      "cell_type": "code",
      "execution_count": 15,
      "metadata": {
        "colab": {
          "base_uri": "https://localhost:8080/"
        },
        "id": "ef7iYHpYVEOY",
        "outputId": "dd2b6ab9-acd7-4915-e488-211fbb1989eb"
      },
      "outputs": [
        {
          "name": "stdout",
          "output_type": "stream",
          "text": [
            "0          Apple\n",
            "1      Microsoft\n",
            "2         Google\n",
            "3         Amazon\n",
            "4       Facebook\n",
            "         ...    \n",
            "95        Airbnb\n",
            "96          Uber\n",
            "97         Gojek\n",
            "98    Freshworks\n",
            "99         Slack\n",
            "Name: company, Length: 100, dtype: object\n"
          ]
        }
      ],
      "source": [
        "data['company']=data['company'].str.title()\n",
        "print(data['company'].str.title())"
      ]
    },
    {
      "cell_type": "markdown",
      "metadata": {
        "id": "jmmumyxqV8lR"
      },
      "source": [
        "Part 3: Exploratory Data Analysis (EDA)\n"
      ]
    },
    {
      "cell_type": "markdown",
      "metadata": {
        "id": "HsIdCB-YWFY8"
      },
      "source": [
        "Calculate the total number of employees across all companies.\n"
      ]
    },
    {
      "cell_type": "code",
      "execution_count": 16,
      "metadata": {
        "colab": {
          "base_uri": "https://localhost:8080/"
        },
        "id": "394eaf17",
        "outputId": "d4125cc1-5d70-41e0-ada7-2cc1deba7286"
      },
      "outputs": [
        {
          "name": "stdout",
          "output_type": "stream",
          "text": [
            "Total number of employees across all companies: 75571557\n"
          ]
        }
      ],
      "source": [
        "total_employees=data['company_size'].sum()\n",
        "print(\"Total number of employees across all companies:\",total_employees)"
      ]
    },
    {
      "cell_type": "markdown",
      "metadata": {
        "id": "CqdXH9DDXZMk"
      },
      "source": [
        "Calculate the total number of employees laid off across all companies.\n"
      ]
    },
    {
      "cell_type": "code",
      "execution_count": 17,
      "metadata": {
        "colab": {
          "base_uri": "https://localhost:8080/"
        },
        "id": "g3mSRC1zXB2-",
        "outputId": "5c287ae0-c485-4759-9134-571ac413e650"
      },
      "outputs": [
        {
          "name": "stdout",
          "output_type": "stream",
          "text": [
            "Total number of employees fired across all companies: 5735562\n"
          ]
        }
      ],
      "source": [
        "total_employees_fired=data['employees_fired'].sum()\n",
        "print(\"Total number of employees fired across all companies:\",total_employees_fired)"
      ]
    },
    {
      "cell_type": "markdown",
      "metadata": {
        "id": "qGBBmQudXavT"
      },
      "source": [
        "Find the company with the highest number of layoffs."
      ]
    },
    {
      "cell_type": "code",
      "execution_count": 18,
      "metadata": {
        "colab": {
          "base_uri": "https://localhost:8080/"
        },
        "id": "K1GhAA0_XfXi",
        "outputId": "5cefd58f-6896-43ef-9e47-4bb048fb93f4"
      },
      "outputs": [
        {
          "name": "stdout",
          "output_type": "stream",
          "text": [
            "Company with the highest number of layoffs:\n",
            "company            Makemytrip\n",
            "employees_fired        206083\n",
            "Name: 63, dtype: object\n"
          ]
        }
      ],
      "source": [
        "company_highest_layoffs=data.sort_values(by='employees_fired', ascending=False).iloc[0]\n",
        "print(\"Company with the highest number of layoffs:\")\n",
        "print(company_highest_layoffs[['company', 'employees_fired']])"
      ]
    },
    {
      "cell_type": "markdown",
      "metadata": {
        "id": "ad38e4c3"
      },
      "source": [
        "Find the company with the highest layoff percentage."
      ]
    },
    {
      "cell_type": "code",
      "execution_count": 19,
      "metadata": {
        "colab": {
          "base_uri": "https://localhost:8080/"
        },
        "id": "9cf7ea92",
        "outputId": "25850b3c-feed-4554-9c8d-ac3c4e2402d7"
      },
      "outputs": [
        {
          "name": "stdout",
          "output_type": "stream",
          "text": [
            "Company with the highest layoff percentage:\n",
            "company               Facebook\n",
            "layoff_percentage    18.106996\n",
            "Name: 4, dtype: object\n"
          ]
        }
      ],
      "source": [
        "data['layoff_percentage']=(data['employees_fired'] / data['company_size']) * 100\n",
        "company_highest_layoff_percentage=data.sort_values(by='layoff_percentage', ascending=False).iloc[0]\n",
        "print(\"Company with the highest layoff percentage:\")\n",
        "print(company_highest_layoff_percentage[['company', 'layoff_percentage']])"
      ]
    },
    {
      "cell_type": "markdown",
      "metadata": {
        "id": "nf3Pov_RZQnD"
      },
      "source": [
        "Create a bar chart of layoffs per company.\n"
      ]
    },
    {
      "cell_type": "code",
      "execution_count": 20,
      "metadata": {
        "colab": {
          "base_uri": "https://localhost:8080/",
          "height": 533
        },
        "id": "UQvCEY9sZPhz",
        "outputId": "bacb2104-06de-409a-d8f2-653da3f34fd4"
      },
      "outputs": [
        {
          "data": {
            "image/png": "[encoded data removed]",
            "text/plain": [
              "<Figure size 1500x700 with 1 Axes>"
            ]
          },
          "metadata": {},
          "output_type": "display_data"
        }
      ],
      "source": [
        "import matplotlib.pyplot as plt\n",
        "plt.figure(figsize=(15, 7))\n",
        "plt.bar(data['company'], data['employees_fired'])\n",
        "plt.xticks(rotation=90)\n",
        "plt.title('Number of Layoffs per Company')\n",
        "plt.xlabel('Company')\n",
        "plt.ylabel('Number of Employees Laid Off')\n",
        "plt.tight_layout()\n",
        "plt.show()\n"
      ]
    },
    {
      "cell_type": "markdown",
      "metadata": {
        "id": "856tfKSCjXSf"
      },
      "source": [
        "Part 4: Statistics\n"
      ]
    },
    {
      "cell_type": "markdown",
      "metadata": {
        "id": "zDSfs-k1kXfB"
      },
      "source": [
        "Calculate mean, median, variance, and standard deviation of employees_fired.\n"
      ]
    },
    {
      "cell_type": "code",
      "execution_count": 21,
      "metadata": {
        "colab": {
          "base_uri": "https://localhost:8080/"
        },
        "id": "2_59nXeljcxS",
        "outputId": "9a071839-57a3-4224-925f-0c6050d91f86"
      },
      "outputs": [
        {
          "name": "stdout",
          "output_type": "stream",
          "text": [
            "57355.62\n",
            "2794420028.9248495\n",
            "52862.27415581787\n"
          ]
        }
      ],
      "source": [
        "mean= data['employees_fired'].mean()\n",
        "variance= data['employees_fired'].var()\n",
        "std_deviation= data['employees_fired'].std()\n",
        "print(mean)\n",
        "print(variance)\n",
        "print(std_deviation)"
      ]
    },
    {
      "cell_type": "markdown",
      "metadata": {
        "id": "eAMbfRSYkZyK"
      },
      "source": [
        "Find the probability that a company laid off more than 5% of its employees.\n"
      ]
    },
    {
      "cell_type": "code",
      "execution_count": 22,
      "metadata": {
        "colab": {
          "base_uri": "https://localhost:8080/"
        },
        "id": "d4c2220a",
        "outputId": "9da7bb80-293d-4386-fe11-42239c9b98cd"
      },
      "outputs": [
        {
          "name": "stdout",
          "output_type": "stream",
          "text": [
            "The probability that a company laid off more than 5% of its employees is: 0.63\n"
          ]
        }
      ],
      "source": [
        "companies_with_high_layoff_percentage = data[data['layoff_percentage'] > 5]\n",
        "probability_high_layoff=len(companies_with_high_layoff_percentage) / len(data)\n",
        "print(\"The probability that a company laid off more than 5% of its employees is:\",probability_high_layoff)"
      ]
    },
    {
      "cell_type": "markdown",
      "metadata": {
        "id": "RMbH61lslC5I"
      },
      "source": [
        "Find the percentage of companies with layoffs greater than 10,000 employees.\n"
      ]
    },
    {
      "cell_type": "code",
      "execution_count": 23,
      "metadata": {
        "colab": {
          "base_uri": "https://localhost:8080/"
        },
        "id": "3hZbZUZAlHfe",
        "outputId": "26a478fa-676d-4496-ee2c-dad8e9e45325"
      },
      "outputs": [
        {
          "name": "stdout",
          "output_type": "stream",
          "text": [
            "78.0\n"
          ]
        }
      ],
      "source": [
        "companies_with_layoff=data[data['employees_fired']>10000]\n",
        "percentage_companies_with_layoff=(len(companies_with_layoff)/len(data))*100\n",
        "print(percentage_companies_with_layoff)"
      ]
    },
    {
      "cell_type": "markdown",
      "metadata": {
        "id": "JIgcApBGlbU6"
      },
      "source": [
        "Part 5:Linear Algebra & NumPy\n"
      ]
    },
    {
      "cell_type": "markdown",
      "metadata": {
        "id": "w-d4mB55liI2"
      },
      "source": [
        "Convert company_size and employees_fired into NumPy arrays.\n"
      ]
    },
    {
      "cell_type": "code",
      "execution_count": 24,
      "metadata": {
        "colab": {
          "base_uri": "https://localhost:8080/"
        },
        "id": "mdbeQMpLlhqX",
        "outputId": "37a6b9d5-5605-4b15-d462-b59eeb1f4c7d"
      },
      "outputs": [
        {
          "name": "stdout",
          "output_type": "stream",
          "text": [
            "NumPy array for 'company_size':\n",
            "[ 147000  181000  139500 1300000   60750   70000 1008569  850789  135654\n",
            " 1116585 1427799 1108146   39718   35514  934246  297770  785272 1432228\n",
            "  492220  461517 1365450  905375 1084540 1274917  800433  442472    7137\n",
            " 1240414  266656  489332 1468609  144959  529059  633768  968712 1268807\n",
            "  449561  323225  541906 1372325  497712  249765  163487  804896 1120609\n",
            " 1145595  256183 1268382  850922  818420  963223  333858 1365533 1201287\n",
            " 1067630  929193  622962  984988 1326712  407621 1109587  886636  212499\n",
            " 1424064  956320 1342497 1007515 1289105   19219  435060  721371   89004\n",
            "   28927  798065  280811  858258 1201702 1427493  935775  577358   45703\n",
            "  985718  614876   46138 1468680 1424533 1195668 1176096  338062 1387660\n",
            "  342628  454430 1443093 1251343  342108  448047 1206139  302489  646552\n",
            "  869416]\n",
            "\n",
            "NumPy array for 'employees_fired':\n",
            "[     0   6000  15000  12000  11000   1000  72661  89997   3909  50166\n",
            "  75006 114143   2716   5023  70940  29899 107886  79039   6496  44492\n",
            " 143633 130595  21834 110308 107657  42484    154 176429  25482  50354\n",
            " 189338   1669  40697  92624  83852 114388  66606  15961  30561  93094\n",
            "  74175  31572  15386 110888  82322   4039  13636  22504 107256  97792\n",
            "  66051  11581 181827  76296  19791  84130   2060  97041  56093  13291\n",
            "  90392  17097  19716 206083 126601  49675  25279 147022    469  19386\n",
            "  97392   7187   2280  42537  27647 121180 129762  14264   9841  57876\n",
            "    794 131593  26294    968  50534 132514  31312 147415  44458 191727\n",
            "  21509   6812 101027  32829  32641   1012  51658   7084   7670   1201]\n"
          ]
        }
      ],
      "source": [
        "import numpy as np\n",
        "company_size_np = data['company_size'].values\n",
        "employees_fired_np = data['employees_fired'].values\n",
        "print(\"NumPy array for 'company_size':\")\n",
        "print(company_size_np)\n",
        "print(\"\\nNumPy array for 'employees_fired':\")\n",
        "print(employees_fired_np)"
      ]
    },
    {
      "cell_type": "markdown",
      "metadata": {
        "id": "kjUrOn0gmUMk"
      },
      "source": [
        "Perform vector subtraction (company_size - employees_fired)."
      ]
    },
    {
      "cell_type": "code",
      "execution_count": 25,
      "metadata": {
        "colab": {
          "base_uri": "https://localhost:8080/"
        },
        "id": "-Ikmg92vmP3_",
        "outputId": "b5b5babe-eeb3-4e70-93ad-39c6473bc5c2"
      },
      "outputs": [
        {
          "name": "stdout",
          "output_type": "stream",
          "text": [
            "[ 147000  175000  124500 1288000   49750   69000  935908  760792  131745\n",
            " 1066419 1352793  994003   37002   30491  863306  267871  677386 1353189\n",
            "  485724  417025 1221817  774780 1062706 1164609  692776  399988    6983\n",
            " 1063985  241174  438978 1279271  143290  488362  541144  884860 1154419\n",
            "  382955  307264  511345 1279231  423537  218193  148101  694008 1038287\n",
            " 1141556  242547 1245878  743666  720628  897172  322277 1183706 1124991\n",
            " 1047839  845063  620902  887947 1270619  394330 1019195  869539  192783\n",
            " 1217981  829719 1292822  982236 1142083   18750  415674  623979   81817\n",
            "   26647  755528  253164  737078 1071940 1413229  925934  519482   44909\n",
            "  854125  588582   45170 1418146 1292019 1164356 1028681  293604 1195933\n",
            "  321119  447618 1342066 1218514  309467  447035 1154481  295405  638882\n",
            "  868215]\n"
          ]
        }
      ],
      "source": [
        "employees_remaining_np=company_size_np-employees_fired_np\n",
        "print(employees_remaining_np)"
      ]
    },
    {
      "cell_type": "markdown",
      "metadata": {
        "id": "ysm3qZb3m34F"
      },
      "source": [
        "Compute the dot product of company_size and employees_fired.\n"
      ]
    },
    {
      "cell_type": "code",
      "execution_count": 26,
      "metadata": {
        "colab": {
          "base_uri": "https://localhost:8080/"
        },
        "id": "Q0HPLkc1nfUv",
        "outputId": "4fcc1627-e180-49d0-90e7-1b41ff177d54"
      },
      "outputs": [
        {
          "name": "stdout",
          "output_type": "stream",
          "text": [
            "5915259851695\n"
          ]
        }
      ],
      "source": [
        "dot_product=np.dot(company_size_np,employees_fired_np)\n",
        "print(dot_product)"
      ]
    },
    {
      "cell_type": "markdown",
      "metadata": {
        "id": "u0tbBo7InkY0"
      },
      "source": [
        "Perform matrix multiplication:\n",
        "\n",
        "\n",
        "Features = [company_size, employees_fired]\n",
        "\n",
        "\n",
        "Weights = [0.4, 0.6]\n"
      ]
    },
    {
      "cell_type": "code",
      "execution_count": 27,
      "metadata": {
        "colab": {
          "base_uri": "https://localhost:8080/"
        },
        "id": "Rc6FWVHQoDxV",
        "outputId": "fa8ed0c3-6313-4fa0-d2bd-b5f9a831889a"
      },
      "outputs": [
        {
          "name": "stdout",
          "output_type": "stream",
          "text": [
            "Result of matrix multiplication:\n",
            "[ 58800.   76000.   64800.  527200.   30900.   28600.  447024.2 394313.8\n",
            "  56607.  476733.6 616123.2 511744.2  17516.8  17219.4 416262.4 137047.4\n",
            " 378840.4 620314.6 200785.6 211302.  632359.8 440507.  446916.4 576151.6\n",
            " 384767.4 202479.2   2947.2 602023.  121951.6 225945.2 701046.4  58985.\n",
            " 236041.8 309081.6 437796.  576155.6 219788.  138866.6 235099.  604786.4\n",
            " 243589.8 118849.2  74626.4 388491.2 497636.8 460661.4 110654.8 520855.2\n",
            " 404722.4 386043.2 424919.8 140491.8 655309.4 526292.4 438926.6 422155.2\n",
            " 250420.8 452219.8 564340.6 171023.  498070.  364912.6  96829.2 693275.4\n",
            " 458488.6 566803.8 418173.4 603855.2   7969.  185655.6 346983.6  39913.8\n",
            "  12938.8 344748.2 128912.6 416011.2 558538.  579555.6 380214.6 265668.8\n",
            "  18757.6 473243.  261726.8  19036.  617792.4 649321.6 497054.4 558887.4\n",
            " 161899.6 670100.2 149956.6 185859.2 637853.4 520234.6 156427.8 179826.\n",
            " 513450.4 125246.  263222.8 348487. ]\n"
          ]
        }
      ],
      "source": [
        "features=np.array([company_size_np, employees_fired_np]).T\n",
        "weights=np.array([0.4, 0.6])\n",
        "matrix_multiplication=np.dot(features, weights)\n",
        "print(\"Result of matrix multiplication:\")\n",
        "print(matrix_multiplication)"
      ]
    },
    {
      "cell_type": "markdown",
      "metadata": {
        "id": "FcDud89SosuS"
      },
      "source": [
        "Part 6: Feature Engineering\n"
      ]
    },
    {
      "cell_type": "markdown",
      "metadata": {
        "id": "8LaBwEDjo03V"
      },
      "source": [
        "Create a new column Layoff_Percentage = (employees_fired / company_size) * 100 (rounded to 2 decimal places).\n"
      ]
    },
    {
      "cell_type": "code",
      "execution_count": 28,
      "metadata": {
        "colab": {
          "base_uri": "https://localhost:8080/",
          "height": 423
        },
        "id": "Zyv2MR_4o0Tt",
        "outputId": "07b8e4af-5cae-495d-b9a5-e1d8c69f93d3"
      },
      "outputs": [
        {
          "data": {
            "text/html": [
              "<div>\n",
              "<style scoped>\n",
              "    .dataframe tbody tr th:only-of-type {\n",
              "        vertical-align: middle;\n",
              "    }\n",
              "\n",
              "    .dataframe tbody tr th {\n",
              "        vertical-align: top;\n",
              "    }\n",
              "\n",
              "    .dataframe thead th {\n",
              "        text-align: right;\n",
              "    }\n",
              "</style>\n",
              "<table border=\"1\" class=\"dataframe\">\n",
              "  <thead>\n",
              "    <tr style=\"text-align: right;\">\n",
              "      <th></th>\n",
              "      <th>company</th>\n",
              "      <th>company_size</th>\n",
              "      <th>employees_fired</th>\n",
              "      <th>layoff_percentage</th>\n",
              "    </tr>\n",
              "  </thead>\n",
              "  <tbody>\n",
              "    <tr>\n",
              "      <th>0</th>\n",
              "      <td>Apple</td>\n",
              "      <td>147000</td>\n",
              "      <td>0</td>\n",
              "      <td>0.00</td>\n",
              "    </tr>\n",
              "    <tr>\n",
              "      <th>1</th>\n",
              "      <td>Microsoft</td>\n",
              "      <td>181000</td>\n",
              "      <td>6000</td>\n",
              "      <td>3.31</td>\n",
              "    </tr>\n",
              "    <tr>\n",
              "      <th>2</th>\n",
              "      <td>Google</td>\n",
              "      <td>139500</td>\n",
              "      <td>15000</td>\n",
              "      <td>10.75</td>\n",
              "    </tr>\n",
              "    <tr>\n",
              "      <th>3</th>\n",
              "      <td>Amazon</td>\n",
              "      <td>1300000</td>\n",
              "      <td>12000</td>\n",
              "      <td>0.92</td>\n",
              "    </tr>\n",
              "    <tr>\n",
              "      <th>4</th>\n",
              "      <td>Facebook</td>\n",
              "      <td>60750</td>\n",
              "      <td>11000</td>\n",
              "      <td>18.11</td>\n",
              "    </tr>\n",
              "    <tr>\n",
              "      <th>...</th>\n",
              "      <td>...</td>\n",
              "      <td>...</td>\n",
              "      <td>...</td>\n",
              "      <td>...</td>\n",
              "    </tr>\n",
              "    <tr>\n",
              "      <th>95</th>\n",
              "      <td>Airbnb</td>\n",
              "      <td>448047</td>\n",
              "      <td>1012</td>\n",
              "      <td>0.23</td>\n",
              "    </tr>\n",
              "    <tr>\n",
              "      <th>96</th>\n",
              "      <td>Uber</td>\n",
              "      <td>1206139</td>\n",
              "      <td>51658</td>\n",
              "      <td>4.28</td>\n",
              "    </tr>\n",
              "    <tr>\n",
              "      <th>97</th>\n",
              "      <td>Gojek</td>\n",
              "      <td>302489</td>\n",
              "      <td>7084</td>\n",
              "      <td>2.34</td>\n",
              "    </tr>\n",
              "    <tr>\n",
              "      <th>98</th>\n",
              "      <td>Freshworks</td>\n",
              "      <td>646552</td>\n",
              "      <td>7670</td>\n",
              "      <td>1.19</td>\n",
              "    </tr>\n",
              "    <tr>\n",
              "      <th>99</th>\n",
              "      <td>Slack</td>\n",
              "      <td>869416</td>\n",
              "      <td>1201</td>\n",
              "      <td>0.14</td>\n",
              "    </tr>\n",
              "  </tbody>\n",
              "</table>\n",
              "<p>100 rows × 4 columns</p>\n",
              "</div>"
            ],
            "text/plain": [
              "       company  company_size  employees_fired  layoff_percentage\n",
              "0        Apple        147000                0               0.00\n",
              "1    Microsoft        181000             6000               3.31\n",
              "2       Google        139500            15000              10.75\n",
              "3       Amazon       1300000            12000               0.92\n",
              "4     Facebook         60750            11000              18.11\n",
              "..         ...           ...              ...                ...\n",
              "95      Airbnb        448047             1012               0.23\n",
              "96        Uber       1206139            51658               4.28\n",
              "97       Gojek        302489             7084               2.34\n",
              "98  Freshworks        646552             7670               1.19\n",
              "99       Slack        869416             1201               0.14\n",
              "\n",
              "[100 rows x 4 columns]"
            ]
          },
          "execution_count": 28,
          "metadata": {},
          "output_type": "execute_result"
        }
      ],
      "source": [
        "data['layoff_percentage']=(data['employees_fired'] / data['company_size']) * 100\n",
        "data['layoff_percentage']=data['layoff_percentage'].round(2)\n",
        "data\n"
      ]
    },
    {
      "cell_type": "markdown",
      "metadata": {
        "id": "je9mNM_ipTob"
      },
      "source": [
        "Create a High_Layoff column (1 if Layoff_Percentage > 5, else 0).\n"
      ]
    },
    {
      "cell_type": "code",
      "execution_count": 29,
      "metadata": {
        "colab": {
          "base_uri": "https://localhost:8080/",
          "height": 423
        },
        "id": "F_NH_4m-pYBl",
        "outputId": "7a302564-6c0d-45a6-c387-4cc2007271b3"
      },
      "outputs": [
        {
          "data": {
            "text/html": [
              "<div>\n",
              "<style scoped>\n",
              "    .dataframe tbody tr th:only-of-type {\n",
              "        vertical-align: middle;\n",
              "    }\n",
              "\n",
              "    .dataframe tbody tr th {\n",
              "        vertical-align: top;\n",
              "    }\n",
              "\n",
              "    .dataframe thead th {\n",
              "        text-align: right;\n",
              "    }\n",
              "</style>\n",
              "<table border=\"1\" class=\"dataframe\">\n",
              "  <thead>\n",
              "    <tr style=\"text-align: right;\">\n",
              "      <th></th>\n",
              "      <th>company</th>\n",
              "      <th>company_size</th>\n",
              "      <th>employees_fired</th>\n",
              "      <th>layoff_percentage</th>\n",
              "      <th>high_layoff</th>\n",
              "    </tr>\n",
              "  </thead>\n",
              "  <tbody>\n",
              "    <tr>\n",
              "      <th>0</th>\n",
              "      <td>Apple</td>\n",
              "      <td>147000</td>\n",
              "      <td>0</td>\n",
              "      <td>0.00</td>\n",
              "      <td>0</td>\n",
              "    </tr>\n",
              "    <tr>\n",
              "      <th>1</th>\n",
              "      <td>Microsoft</td>\n",
              "      <td>181000</td>\n",
              "      <td>6000</td>\n",
              "      <td>3.31</td>\n",
              "      <td>0</td>\n",
              "    </tr>\n",
              "    <tr>\n",
              "      <th>2</th>\n",
              "      <td>Google</td>\n",
              "      <td>139500</td>\n",
              "      <td>15000</td>\n",
              "      <td>10.75</td>\n",
              "      <td>1</td>\n",
              "    </tr>\n",
              "    <tr>\n",
              "      <th>3</th>\n",
              "      <td>Amazon</td>\n",
              "      <td>1300000</td>\n",
              "      <td>12000</td>\n",
              "      <td>0.92</td>\n",
              "      <td>0</td>\n",
              "    </tr>\n",
              "    <tr>\n",
              "      <th>4</th>\n",
              "      <td>Facebook</td>\n",
              "      <td>60750</td>\n",
              "      <td>11000</td>\n",
              "      <td>18.11</td>\n",
              "      <td>1</td>\n",
              "    </tr>\n",
              "    <tr>\n",
              "      <th>...</th>\n",
              "      <td>...</td>\n",
              "      <td>...</td>\n",
              "      <td>...</td>\n",
              "      <td>...</td>\n",
              "      <td>...</td>\n",
              "    </tr>\n",
              "    <tr>\n",
              "      <th>95</th>\n",
              "      <td>Airbnb</td>\n",
              "      <td>448047</td>\n",
              "      <td>1012</td>\n",
              "      <td>0.23</td>\n",
              "      <td>0</td>\n",
              "    </tr>\n",
              "    <tr>\n",
              "      <th>96</th>\n",
              "      <td>Uber</td>\n",
              "      <td>1206139</td>\n",
              "      <td>51658</td>\n",
              "      <td>4.28</td>\n",
              "      <td>0</td>\n",
              "    </tr>\n",
              "    <tr>\n",
              "      <th>97</th>\n",
              "      <td>Gojek</td>\n",
              "      <td>302489</td>\n",
              "      <td>7084</td>\n",
              "      <td>2.34</td>\n",
              "      <td>0</td>\n",
              "    </tr>\n",
              "    <tr>\n",
              "      <th>98</th>\n",
              "      <td>Freshworks</td>\n",
              "      <td>646552</td>\n",
              "      <td>7670</td>\n",
              "      <td>1.19</td>\n",
              "      <td>0</td>\n",
              "    </tr>\n",
              "    <tr>\n",
              "      <th>99</th>\n",
              "      <td>Slack</td>\n",
              "      <td>869416</td>\n",
              "      <td>1201</td>\n",
              "      <td>0.14</td>\n",
              "      <td>0</td>\n",
              "    </tr>\n",
              "  </tbody>\n",
              "</table>\n",
              "<p>100 rows × 5 columns</p>\n",
              "</div>"
            ],
            "text/plain": [
              "       company  company_size  employees_fired  layoff_percentage  high_layoff\n",
              "0        Apple        147000                0               0.00            0\n",
              "1    Microsoft        181000             6000               3.31            0\n",
              "2       Google        139500            15000              10.75            1\n",
              "3       Amazon       1300000            12000               0.92            0\n",
              "4     Facebook         60750            11000              18.11            1\n",
              "..         ...           ...              ...                ...          ...\n",
              "95      Airbnb        448047             1012               0.23            0\n",
              "96        Uber       1206139            51658               4.28            0\n",
              "97       Gojek        302489             7084               2.34            0\n",
              "98  Freshworks        646552             7670               1.19            0\n",
              "99       Slack        869416             1201               0.14            0\n",
              "\n",
              "[100 rows x 5 columns]"
            ]
          },
          "execution_count": 29,
          "metadata": {},
          "output_type": "execute_result"
        }
      ],
      "source": [
        "data['high_layoff']=data['layoff_percentage'].apply(lambda x:1 if x>5 else 0)\n",
        "data"
      ]
    },
    {
      "cell_type": "markdown",
      "metadata": {
        "id": "A1-MbgXipllw"
      },
      "source": [
        "Rank companies into quartiles based on Layoff_Percentage."
      ]
    },
    {
      "cell_type": "code",
      "execution_count": 30,
      "metadata": {
        "colab": {
          "base_uri": "https://localhost:8080/",
          "height": 423
        },
        "id": "2nEjy7C8pqmU",
        "outputId": "6a4aa932-3dba-43d6-808e-76f2c1237219"
      },
      "outputs": [
        {
          "data": {
            "text/html": [
              "<div>\n",
              "<style scoped>\n",
              "    .dataframe tbody tr th:only-of-type {\n",
              "        vertical-align: middle;\n",
              "    }\n",
              "\n",
              "    .dataframe tbody tr th {\n",
              "        vertical-align: top;\n",
              "    }\n",
              "\n",
              "    .dataframe thead th {\n",
              "        text-align: right;\n",
              "    }\n",
              "</style>\n",
              "<table border=\"1\" class=\"dataframe\">\n",
              "  <thead>\n",
              "    <tr style=\"text-align: right;\">\n",
              "      <th></th>\n",
              "      <th>company</th>\n",
              "      <th>layoff_percentage</th>\n",
              "      <th>layoff_percentage_quartile</th>\n",
              "    </tr>\n",
              "  </thead>\n",
              "  <tbody>\n",
              "    <tr>\n",
              "      <th>0</th>\n",
              "      <td>Apple</td>\n",
              "      <td>0.00</td>\n",
              "      <td>0</td>\n",
              "    </tr>\n",
              "    <tr>\n",
              "      <th>99</th>\n",
              "      <td>Slack</td>\n",
              "      <td>0.14</td>\n",
              "      <td>0</td>\n",
              "    </tr>\n",
              "    <tr>\n",
              "      <th>95</th>\n",
              "      <td>Airbnb</td>\n",
              "      <td>0.23</td>\n",
              "      <td>0</td>\n",
              "    </tr>\n",
              "    <tr>\n",
              "      <th>56</th>\n",
              "      <td>Amd</td>\n",
              "      <td>0.33</td>\n",
              "      <td>0</td>\n",
              "    </tr>\n",
              "    <tr>\n",
              "      <th>45</th>\n",
              "      <td>Bitbucket</td>\n",
              "      <td>0.35</td>\n",
              "      <td>0</td>\n",
              "    </tr>\n",
              "    <tr>\n",
              "      <th>...</th>\n",
              "      <td>...</td>\n",
              "      <td>...</td>\n",
              "      <td>...</td>\n",
              "    </tr>\n",
              "    <tr>\n",
              "      <th>63</th>\n",
              "      <td>Makemytrip</td>\n",
              "      <td>14.47</td>\n",
              "      <td>3</td>\n",
              "    </tr>\n",
              "    <tr>\n",
              "      <th>33</th>\n",
              "      <td>Salesforce</td>\n",
              "      <td>14.61</td>\n",
              "      <td>3</td>\n",
              "    </tr>\n",
              "    <tr>\n",
              "      <th>36</th>\n",
              "      <td>Shopify</td>\n",
              "      <td>14.82</td>\n",
              "      <td>3</td>\n",
              "    </tr>\n",
              "    <tr>\n",
              "      <th>40</th>\n",
              "      <td>Curefit</td>\n",
              "      <td>14.90</td>\n",
              "      <td>3</td>\n",
              "    </tr>\n",
              "    <tr>\n",
              "      <th>4</th>\n",
              "      <td>Facebook</td>\n",
              "      <td>18.11</td>\n",
              "      <td>3</td>\n",
              "    </tr>\n",
              "  </tbody>\n",
              "</table>\n",
              "<p>100 rows × 3 columns</p>\n",
              "</div>"
            ],
            "text/plain": [
              "       company  layoff_percentage  layoff_percentage_quartile\n",
              "0        Apple               0.00                           0\n",
              "99       Slack               0.14                           0\n",
              "95      Airbnb               0.23                           0\n",
              "56         Amd               0.33                           0\n",
              "45   Bitbucket               0.35                           0\n",
              "..         ...                ...                         ...\n",
              "63  Makemytrip              14.47                           3\n",
              "33  Salesforce              14.61                           3\n",
              "36     Shopify              14.82                           3\n",
              "40     Curefit              14.90                           3\n",
              "4     Facebook              18.11                           3\n",
              "\n",
              "[100 rows x 3 columns]"
            ]
          },
          "metadata": {},
          "output_type": "display_data"
        }
      ],
      "source": [
        "data['layoff_percentage_quartile']=pd.qcut(data['layoff_percentage'],q=4,labels=False)\n",
        "display(data[['company','layoff_percentage','layoff_percentage_quartile']].sort_values(by='layoff_percentage'))"
      ]
    },
    {
      "cell_type": "markdown",
      "metadata": {
        "id": "gGKaH9t9w3UU"
      },
      "source": [
        "Part 7 – SQL Simulation in Pandas\n"
      ]
    },
    {
      "cell_type": "markdown",
      "metadata": {
        "id": "38tx7sybw8YA"
      },
      "source": [
        "Select all companies with Layoff_Percentage > 5 and order them by Layoff_Percentage descending.\n"
      ]
    },
    {
      "cell_type": "code",
      "execution_count": 31,
      "metadata": {
        "colab": {
          "base_uri": "https://localhost:8080/",
          "height": 423
        },
        "id": "ws32R8EXx2Ym",
        "outputId": "ce193196-500d-49ab-c696-a528a602b305"
      },
      "outputs": [
        {
          "data": {
            "text/html": [
              "<div>\n",
              "<style scoped>\n",
              "    .dataframe tbody tr th:only-of-type {\n",
              "        vertical-align: middle;\n",
              "    }\n",
              "\n",
              "    .dataframe tbody tr th {\n",
              "        vertical-align: top;\n",
              "    }\n",
              "\n",
              "    .dataframe thead th {\n",
              "        text-align: right;\n",
              "    }\n",
              "</style>\n",
              "<table border=\"1\" class=\"dataframe\">\n",
              "  <thead>\n",
              "    <tr style=\"text-align: right;\">\n",
              "      <th></th>\n",
              "      <th>company</th>\n",
              "      <th>company_size</th>\n",
              "      <th>employees_fired</th>\n",
              "      <th>layoff_percentage</th>\n",
              "      <th>high_layoff</th>\n",
              "      <th>layoff_percentage_quartile</th>\n",
              "    </tr>\n",
              "  </thead>\n",
              "  <tbody>\n",
              "    <tr>\n",
              "      <th>4</th>\n",
              "      <td>Facebook</td>\n",
              "      <td>60750</td>\n",
              "      <td>11000</td>\n",
              "      <td>18.11</td>\n",
              "      <td>1</td>\n",
              "      <td>3</td>\n",
              "    </tr>\n",
              "    <tr>\n",
              "      <th>40</th>\n",
              "      <td>Curefit</td>\n",
              "      <td>497712</td>\n",
              "      <td>74175</td>\n",
              "      <td>14.90</td>\n",
              "      <td>1</td>\n",
              "      <td>3</td>\n",
              "    </tr>\n",
              "    <tr>\n",
              "      <th>36</th>\n",
              "      <td>Shopify</td>\n",
              "      <td>449561</td>\n",
              "      <td>66606</td>\n",
              "      <td>14.82</td>\n",
              "      <td>1</td>\n",
              "      <td>3</td>\n",
              "    </tr>\n",
              "    <tr>\n",
              "      <th>33</th>\n",
              "      <td>Salesforce</td>\n",
              "      <td>633768</td>\n",
              "      <td>92624</td>\n",
              "      <td>14.61</td>\n",
              "      <td>1</td>\n",
              "      <td>3</td>\n",
              "    </tr>\n",
              "    <tr>\n",
              "      <th>63</th>\n",
              "      <td>Makemytrip</td>\n",
              "      <td>1424064</td>\n",
              "      <td>206083</td>\n",
              "      <td>14.47</td>\n",
              "      <td>1</td>\n",
              "      <td>3</td>\n",
              "    </tr>\n",
              "    <tr>\n",
              "      <th>...</th>\n",
              "      <td>...</td>\n",
              "      <td>...</td>\n",
              "      <td>...</td>\n",
              "      <td>...</td>\n",
              "      <td>...</td>\n",
              "      <td>...</td>\n",
              "    </tr>\n",
              "    <tr>\n",
              "      <th>38</th>\n",
              "      <td>Grab</td>\n",
              "      <td>541906</td>\n",
              "      <td>30561</td>\n",
              "      <td>5.64</td>\n",
              "      <td>1</td>\n",
              "      <td>1</td>\n",
              "    </tr>\n",
              "    <tr>\n",
              "      <th>17</th>\n",
              "      <td>Unacademy</td>\n",
              "      <td>1432228</td>\n",
              "      <td>79039</td>\n",
              "      <td>5.52</td>\n",
              "      <td>1</td>\n",
              "      <td>1</td>\n",
              "    </tr>\n",
              "    <tr>\n",
              "      <th>73</th>\n",
              "      <td>Netflix</td>\n",
              "      <td>798065</td>\n",
              "      <td>42537</td>\n",
              "      <td>5.33</td>\n",
              "      <td>1</td>\n",
              "      <td>1</td>\n",
              "    </tr>\n",
              "    <tr>\n",
              "      <th>46</th>\n",
              "      <td>Snapdeal</td>\n",
              "      <td>256183</td>\n",
              "      <td>13636</td>\n",
              "      <td>5.32</td>\n",
              "      <td>1</td>\n",
              "      <td>1</td>\n",
              "    </tr>\n",
              "    <tr>\n",
              "      <th>10</th>\n",
              "      <td>Github</td>\n",
              "      <td>1427799</td>\n",
              "      <td>75006</td>\n",
              "      <td>5.25</td>\n",
              "      <td>1</td>\n",
              "      <td>1</td>\n",
              "    </tr>\n",
              "  </tbody>\n",
              "</table>\n",
              "<p>63 rows × 6 columns</p>\n",
              "</div>"
            ],
            "text/plain": [
              "       company  company_size  employees_fired  layoff_percentage  high_layoff  \\\n",
              "4     Facebook         60750            11000              18.11            1   \n",
              "40     Curefit        497712            74175              14.90            1   \n",
              "36     Shopify        449561            66606              14.82            1   \n",
              "33  Salesforce        633768            92624              14.61            1   \n",
              "63  Makemytrip       1424064           206083              14.47            1   \n",
              "..         ...           ...              ...                ...          ...   \n",
              "38        Grab        541906            30561               5.64            1   \n",
              "17   Unacademy       1432228            79039               5.52            1   \n",
              "73     Netflix        798065            42537               5.33            1   \n",
              "46    Snapdeal        256183            13636               5.32            1   \n",
              "10      Github       1427799            75006               5.25            1   \n",
              "\n",
              "    layoff_percentage_quartile  \n",
              "4                            3  \n",
              "40                           3  \n",
              "36                           3  \n",
              "33                           3  \n",
              "63                           3  \n",
              "..                         ...  \n",
              "38                           1  \n",
              "17                           1  \n",
              "73                           1  \n",
              "46                           1  \n",
              "10                           1  \n",
              "\n",
              "[63 rows x 6 columns]"
            ]
          },
          "metadata": {},
          "output_type": "display_data"
        }
      ],
      "source": [
        "display(data[data['layoff_percentage'] > 5].sort_values(by='layoff_percentage',ascending=False))"
      ]
    },
    {
      "cell_type": "markdown",
      "metadata": {
        "id": "3Uc9NW9fycJD"
      },
      "source": [
        "Get the top 3 companies with the highest layoff counts."
      ]
    },
    {
      "cell_type": "code",
      "execution_count": 32,
      "metadata": {
        "colab": {
          "base_uri": "https://localhost:8080/",
          "height": 143
        },
        "id": "3rIhQm15ybyp",
        "outputId": "374b0d94-e693-4001-8eb9-e4f0f6926f04"
      },
      "outputs": [
        {
          "data": {
            "text/html": [
              "<div>\n",
              "<style scoped>\n",
              "    .dataframe tbody tr th:only-of-type {\n",
              "        vertical-align: middle;\n",
              "    }\n",
              "\n",
              "    .dataframe tbody tr th {\n",
              "        vertical-align: top;\n",
              "    }\n",
              "\n",
              "    .dataframe thead th {\n",
              "        text-align: right;\n",
              "    }\n",
              "</style>\n",
              "<table border=\"1\" class=\"dataframe\">\n",
              "  <thead>\n",
              "    <tr style=\"text-align: right;\">\n",
              "      <th></th>\n",
              "      <th>company</th>\n",
              "      <th>company_size</th>\n",
              "      <th>employees_fired</th>\n",
              "      <th>layoff_percentage</th>\n",
              "      <th>high_layoff</th>\n",
              "      <th>layoff_percentage_quartile</th>\n",
              "    </tr>\n",
              "  </thead>\n",
              "  <tbody>\n",
              "    <tr>\n",
              "      <th>63</th>\n",
              "      <td>Makemytrip</td>\n",
              "      <td>1424064</td>\n",
              "      <td>206083</td>\n",
              "      <td>14.47</td>\n",
              "      <td>1</td>\n",
              "      <td>3</td>\n",
              "    </tr>\n",
              "    <tr>\n",
              "      <th>89</th>\n",
              "      <td>Razorpay</td>\n",
              "      <td>1387660</td>\n",
              "      <td>191727</td>\n",
              "      <td>13.82</td>\n",
              "      <td>1</td>\n",
              "      <td>3</td>\n",
              "    </tr>\n",
              "    <tr>\n",
              "      <th>30</th>\n",
              "      <td>Doordash</td>\n",
              "      <td>1468609</td>\n",
              "      <td>189338</td>\n",
              "      <td>12.89</td>\n",
              "      <td>1</td>\n",
              "      <td>3</td>\n",
              "    </tr>\n",
              "  </tbody>\n",
              "</table>\n",
              "</div>"
            ],
            "text/plain": [
              "       company  company_size  employees_fired  layoff_percentage  high_layoff  \\\n",
              "63  Makemytrip       1424064           206083              14.47            1   \n",
              "89    Razorpay       1387660           191727              13.82            1   \n",
              "30    Doordash       1468609           189338              12.89            1   \n",
              "\n",
              "    layoff_percentage_quartile  \n",
              "63                           3  \n",
              "89                           3  \n",
              "30                           3  "
            ]
          },
          "metadata": {},
          "output_type": "display_data"
        }
      ],
      "source": [
        "display(data.sort_values(by='employees_fired',ascending=False).head(3))"
      ]
    },
    {
      "cell_type": "markdown",
      "metadata": {
        "id": "NNUTqSj7zTc-"
      },
      "source": [
        "Sort companies alphabetically and show company and Layoff_Percentage.\n"
      ]
    },
    {
      "cell_type": "code",
      "execution_count": 33,
      "metadata": {
        "colab": {
          "base_uri": "https://localhost:8080/",
          "height": 423
        },
        "id": "g86k0QZpzyT1",
        "outputId": "5af4b513-dabe-45f6-b934-360fd23196ff"
      },
      "outputs": [
        {
          "data": {
            "text/html": [
              "<div>\n",
              "<style scoped>\n",
              "    .dataframe tbody tr th:only-of-type {\n",
              "        vertical-align: middle;\n",
              "    }\n",
              "\n",
              "    .dataframe tbody tr th {\n",
              "        vertical-align: top;\n",
              "    }\n",
              "\n",
              "    .dataframe thead th {\n",
              "        text-align: right;\n",
              "    }\n",
              "</style>\n",
              "<table border=\"1\" class=\"dataframe\">\n",
              "  <thead>\n",
              "    <tr style=\"text-align: right;\">\n",
              "      <th></th>\n",
              "      <th>company</th>\n",
              "      <th>layoff_percentage</th>\n",
              "    </tr>\n",
              "  </thead>\n",
              "  <tbody>\n",
              "    <tr>\n",
              "      <th>29</th>\n",
              "      <td>Airbnb</td>\n",
              "      <td>10.29</td>\n",
              "    </tr>\n",
              "    <tr>\n",
              "      <th>95</th>\n",
              "      <td>Airbnb</td>\n",
              "      <td>0.23</td>\n",
              "    </tr>\n",
              "    <tr>\n",
              "      <th>3</th>\n",
              "      <td>Amazon</td>\n",
              "      <td>0.92</td>\n",
              "    </tr>\n",
              "    <tr>\n",
              "      <th>56</th>\n",
              "      <td>Amd</td>\n",
              "      <td>0.33</td>\n",
              "    </tr>\n",
              "    <tr>\n",
              "      <th>61</th>\n",
              "      <td>Amd</td>\n",
              "      <td>1.93</td>\n",
              "    </tr>\n",
              "    <tr>\n",
              "      <th>...</th>\n",
              "      <td>...</td>\n",
              "      <td>...</td>\n",
              "    </tr>\n",
              "    <tr>\n",
              "      <th>87</th>\n",
              "      <td>Uber</td>\n",
              "      <td>12.53</td>\n",
              "    </tr>\n",
              "    <tr>\n",
              "      <th>96</th>\n",
              "      <td>Uber</td>\n",
              "      <td>4.28</td>\n",
              "    </tr>\n",
              "    <tr>\n",
              "      <th>17</th>\n",
              "      <td>Unacademy</td>\n",
              "      <td>5.52</td>\n",
              "    </tr>\n",
              "    <tr>\n",
              "      <th>43</th>\n",
              "      <td>Wework</td>\n",
              "      <td>13.78</td>\n",
              "    </tr>\n",
              "    <tr>\n",
              "      <th>62</th>\n",
              "      <td>Wework</td>\n",
              "      <td>9.28</td>\n",
              "    </tr>\n",
              "  </tbody>\n",
              "</table>\n",
              "<p>100 rows × 2 columns</p>\n",
              "</div>"
            ],
            "text/plain": [
              "      company  layoff_percentage\n",
              "29     Airbnb              10.29\n",
              "95     Airbnb               0.23\n",
              "3      Amazon               0.92\n",
              "56        Amd               0.33\n",
              "61        Amd               1.93\n",
              "..        ...                ...\n",
              "87       Uber              12.53\n",
              "96       Uber               4.28\n",
              "17  Unacademy               5.52\n",
              "43     Wework              13.78\n",
              "62     Wework               9.28\n",
              "\n",
              "[100 rows x 2 columns]"
            ]
          },
          "metadata": {},
          "output_type": "display_data"
        }
      ],
      "source": [
        "display(data[['company', 'layoff_percentage']].sort_values(by='company'))"
      ]
    },
    {
      "cell_type": "markdown",
      "metadata": {
        "id": "3HLalwVnz4eh"
      },
      "source": [
        "Part 8 – Insights"
      ]
    },
    {
      "cell_type": "markdown",
      "metadata": {
        "id": "RDBD_K4gz9CU"
      },
      "source": [
        "Which company had the highest layoffs in percentage terms?"
      ]
    },
    {
      "cell_type": "code",
      "execution_count": 34,
      "metadata": {
        "colab": {
          "base_uri": "https://localhost:8080/",
          "height": 147
        },
        "id": "Jp6Aad3j0CJd",
        "outputId": "89171199-2e22-4229-afdb-f24c980d5f11"
      },
      "outputs": [
        {
          "data": {
            "text/plain": [
              "company              Facebook\n",
              "layoff_percentage       18.11\n",
              "Name: 4, dtype: object"
            ]
          },
          "metadata": {},
          "output_type": "display_data"
        }
      ],
      "source": [
        "company_highest_layoff_percentage=data.sort_values(by='layoff_percentage', ascending=False).iloc[0]\n",
        "display(company_highest_layoff_percentage[['company','layoff_percentage']])"
      ]
    },
    {
      "cell_type": "markdown",
      "metadata": {
        "id": "BBpV8kKW0khj"
      },
      "source": [
        "Which company had the most employees fired in absolute numbers?"
      ]
    },
    {
      "cell_type": "code",
      "execution_count": 35,
      "metadata": {
        "colab": {
          "base_uri": "https://localhost:8080/",
          "height": 147
        },
        "id": "7xzD1KRL0o5p",
        "outputId": "47fa257c-f154-4f2e-bccb-84c694ea9346"
      },
      "outputs": [
        {
          "data": {
            "text/plain": [
              "company            Makemytrip\n",
              "employees_fired        206083\n",
              "Name: 63, dtype: object"
            ]
          },
          "metadata": {},
          "output_type": "display_data"
        }
      ],
      "source": [
        "company_with_mostfired=data.sort_values(by='employees_fired',ascending=False).iloc[0]\n",
        "display(company_with_mostfired[['company','employees_fired']])"
      ]
    },
    {
      "cell_type": "markdown",
      "metadata": {
        "id": "hmWEFcbL2NdM"
      },
      "source": [
        "What is the average layoff percentage across all companies?\n"
      ]
    },
    {
      "cell_type": "code",
      "execution_count": 36,
      "metadata": {
        "colab": {
          "base_uri": "https://localhost:8080/"
        },
        "id": "uFjLSD952NQj",
        "outputId": "a0350be1-97c9-40d7-e088-328dfb4f7320"
      },
      "outputs": [
        {
          "name": "stdout",
          "output_type": "stream",
          "text": [
            "7.384200000000001\n"
          ]
        }
      ],
      "source": [
        "avg_layoff_percentage=data['layoff_percentage'].mean()\n",
        "print(avg_layoff_percentage)\n"
      ]
    },
    {
      "cell_type": "markdown",
      "metadata": {
        "id": "R4GtM61i2ZTA"
      },
      "source": [
        "Which quartile of Layoff_Percentage has the highest average company_size?"
      ]
    },
    {
      "cell_type": "code",
      "execution_count": 37,
      "metadata": {
        "colab": {
          "base_uri": "https://localhost:8080/",
          "height": 147
        },
        "id": "oWoMZgyI2fYQ",
        "outputId": "67cee205-6ca7-4bfd-feba-0f44235b4af6"
      },
      "outputs": [
        {
          "data": {
            "text/plain": [
              "layoff_percentage_quartile\n",
              "3    852212.0\n",
              "Name: company_size, dtype: float64"
            ]
          },
          "metadata": {},
          "output_type": "display_data"
        }
      ],
      "source": [
        "quartile_layoff_percentage = data.groupby('layoff_percentage_quartile')['company_size'].mean()\n",
        "display(quartile_layoff_percentage.sort_values(ascending=False).head(1))"
      ]
    }
  ],
  "metadata": {
    "colab": {
      "provenance": []
    },
    "kernelspec": {
      "display_name": "anaconda4",
      "language": "python",
      "name": "python3"
    },
    "language_info": {
      "codemirror_mode": {
        "name": "ipython",
        "version": 3
      },
      "file_extension": ".py",
      "mimetype": "text/x-python",
      "name": "python",
      "nbconvert_exporter": "python",
      "pygments_lexer": "ipython3",
      "version": "3.13.5"
    }
  },
  "nbformat": 4,
  "nbformat_minor": 0
}
